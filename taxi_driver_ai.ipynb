{
 "cells": [
  {
   "cell_type": "markdown",
   "metadata": {},
   "source": [
    "# Self-Driving Taxi using Q-Learning"
   ]
  },
  {
   "cell_type": "markdown",
   "metadata": {},
   "source": [
    "## Summary\n",
    "\n",
    "The goal of this project is to develop a self-driving taxi that can efficiently pick-up passengers and drop them off at their intended location."
   ]
  },
  {
   "cell_type": "markdown",
   "metadata": {},
   "source": [
    "## Implementation"
   ]
  },
  {
   "cell_type": "markdown",
   "metadata": {},
   "source": [
    "### Imports\n",
    "\n",
    "The first step is to imort the necessary libraries."
   ]
  },
  {
   "cell_type": "code",
   "execution_count": 1,
   "metadata": {},
   "outputs": [],
   "source": [
    "import numpy as np\n",
    "import gym\n",
    "import random\n",
    "import time\n",
    "from IPython.display import clear_output"
   ]
  },
  {
   "cell_type": "markdown",
   "metadata": {},
   "source": [
    "### Setup the Environment\n",
    "\n",
    "The following command creates the taxi problem from OpenAI's `gym` library."
   ]
  },
  {
   "cell_type": "code",
   "execution_count": 2,
   "metadata": {},
   "outputs": [],
   "source": [
    "env = gym.make(\"Taxi-v3\")"
   ]
  },
  {
   "cell_type": "markdown",
   "metadata": {},
   "source": [
    "Next, the q-table is created, with a q value for each (state, action) pair."
   ]
  },
  {
   "cell_type": "code",
   "execution_count": 3,
   "metadata": {},
   "outputs": [
    {
     "name": "stdout",
     "output_type": "stream",
     "text": [
      "Number of states: 500\n",
      "Number of actions: 6\n",
      "\n",
      "Q Table:\n",
      "[[0. 0. 0. 0. 0. 0.]\n",
      " [0. 0. 0. 0. 0. 0.]\n",
      " [0. 0. 0. 0. 0. 0.]\n",
      " ...\n",
      " [0. 0. 0. 0. 0. 0.]\n",
      " [0. 0. 0. 0. 0. 0.]\n",
      " [0. 0. 0. 0. 0. 0.]]\n"
     ]
    }
   ],
   "source": [
    "num_states = env.observation_space.n\n",
    "print(\"Number of states: \" + str(num_states))\n",
    "num_actions = env.action_space.n\n",
    "print(\"Number of actions: \" + str(num_actions) + \"\\n\")\n",
    "\n",
    "q_table = np.zeros((num_states, num_actions))\n",
    "print(\"Q Table:\")\n",
    "print(q_table)"
   ]
  },
  {
   "cell_type": "markdown",
   "metadata": {},
   "source": [
    "This problem has 500 states:\n",
    " - There are 5x5 cells on the grid\n",
    " - The passenger can be in any of 5 locations (4 starting locations, or the taxi)\n",
    " - There are 4 possible destinations\n",
    "Therefore, the total number of states is 5x5x5x4 = 500\n",
    "\n",
    "There are 6 actions: `up`, `down`, `left`, `right`, `pick-up`, `drop-off`\n",
    "\n",
    "Therefore the q-table is a 500x6 matrix."
   ]
  },
  {
   "cell_type": "markdown",
   "metadata": {},
   "source": [
    "### Parameters\n",
    "\n",
    "Before the agent can learn the optimal policy by filling the q-table, the constants for q-learning must be defined."
   ]
  },
  {
   "cell_type": "code",
   "execution_count": 4,
   "metadata": {},
   "outputs": [],
   "source": [
    "num_episodes = 10000\n",
    "max_steps = 100\n",
    "lr = 0.2\n",
    "discount_rate = 0.9\n",
    "\n",
    "exploration_rate = 1\n",
    "max_exploration = 1\n",
    "min_exploration = 0.001\n",
    "exploration_decay = 0.001"
   ]
  },
  {
   "cell_type": "markdown",
   "metadata": {},
   "source": [
    "### Q-Learning Algorithm"
   ]
  },
  {
   "cell_type": "code",
   "execution_count": 5,
   "metadata": {},
   "outputs": [],
   "source": [
    "rewards = []\n",
    "\n",
    "for episode in range(num_episodes):\n",
    "    state = env.reset()\n",
    "    done = False\n",
    "    current_rewards = 0\n",
    "    \n",
    "    for step in range(max_steps):\n",
    "        exploration_threshold = random.uniform(0,1)\n",
    "        if exploration_threshold > exploration_rate:\n",
    "            action = np.argmax(q_table[state,:])\n",
    "        else:\n",
    "            action = env.action_space.sample()\n",
    "        \n",
    "        new_state, reward, done, info = env.step(action)\n",
    "        \n",
    "        q_table[state,action] = q_table[state,action]*(1-lr) + lr*(reward+discount_rate*np.max(q_table[new_state,:]))\n",
    "        state = new_state\n",
    "        current_rewards += reward\n",
    "        \n",
    "        if done == True:\n",
    "            break\n",
    "        \n",
    "        exploration_rate = min_exploration + (max_exploration-min_exploration)*np.exp(-exploration_decay*episode)\n",
    "        \n",
    "    rewards.append(current_rewards)"
   ]
  },
  {
   "cell_type": "markdown",
   "metadata": {},
   "source": [
    "### Average Rewards per 1000 Episodes"
   ]
  },
  {
   "cell_type": "code",
   "execution_count": 6,
   "metadata": {
    "scrolled": true
   },
   "outputs": [
    {
     "name": "stdout",
     "output_type": "stream",
     "text": [
      "Average reward per thousand episodes:\n",
      "1000:-209.72699999999958\n",
      "2000:-11.373000000000006\n",
      "3000:2.88399999999999\n",
      "4000:6.043999999999971\n",
      "5000:7.135999999999967\n",
      "6000:7.65799999999995\n",
      "7000:7.921999999999971\n",
      "8000:7.968999999999959\n",
      "9000:7.813999999999964\n",
      "10000:7.8569999999999585\n",
      "Q Table:\n",
      "[[ 0.00000000e+00  0.00000000e+00  0.00000000e+00  0.00000000e+00\n",
      "   0.00000000e+00  0.00000000e+00]\n",
      " [-1.40853083e+00  7.44485617e-03 -2.94392375e+00 -7.39848307e-01\n",
      "   1.62261467e+00 -9.92263229e+00]\n",
      " [ 3.54940584e+00  5.07057193e+00  1.94780856e+00  5.08330596e+00\n",
      "   7.71470000e+00 -3.56039024e+00]\n",
      " ...\n",
      " [-1.35848138e+00  9.23946047e+00  4.72674493e-01 -1.47743415e+00\n",
      "  -6.98055308e+00 -6.46949164e+00]\n",
      " [-2.91217654e+00  1.46104537e+00 -2.83019682e+00 -2.71952020e+00\n",
      "  -9.03397835e+00 -9.57891856e+00]\n",
      " [ 2.40898039e+00  4.91693769e+00  1.53562143e+00  1.69936248e+01\n",
      "  -1.40986968e-01  7.33676919e-01]]\n"
     ]
    }
   ],
   "source": [
    "rewards_per_thousand_episodes = np.split(np.array(rewards), num_episodes/1000)\n",
    "count = 1000\n",
    "\n",
    "print(\"Average reward per thousand episodes:\")\n",
    "for r in rewards_per_thousand_episodes:\n",
    "    print(str(count) + \": \" + str(sum(r/1000)))\n",
    "    count += 1000\n",
    "\n",
    "print(\"\\nQ Table:\")\n",
    "print(q_table)"
   ]
  },
  {
   "cell_type": "markdown",
   "metadata": {},
   "source": [
    "### Watch the Agent Play Taxi Driver"
   ]
  },
  {
   "cell_type": "code",
   "execution_count": 7,
   "metadata": {},
   "outputs": [
    {
     "name": "stdout",
     "output_type": "stream",
     "text": [
      "Episode: 4\n",
      "+---------+\n",
      "|R: | : :G|\n",
      "| : | : : |\n",
      "| : : : : |\n",
      "| | : | : |\n",
      "|\u001b[35m\u001b[34;1m\u001b[43mY\u001b[0m\u001b[0m\u001b[0m| : |B: |\n",
      "+---------+\n",
      "  (Dropoff)\n",
      "Episode Reward: 7\n"
     ]
    }
   ],
   "source": [
    "episodes = int(input(\"How many episodes would you like to see? \"))\n",
    "time.sleep(1)\n",
    "rewards = []\n",
    "#avg_rewards = 0\n",
    "\n",
    "for episode in range(episodes):\n",
    "    \n",
    "    clear_output(wait=True)\n",
    "    state = env.reset()\n",
    "    env.render()\n",
    "    done = False\n",
    "    episode_reward = 0\n",
    "\n",
    "    while(done == False):\n",
    "    \n",
    "        action = np.argmax(q_table[state,:])\n",
    "        next_state, reward, done, info = env.step(action)\n",
    "        state = next_state\n",
    "        episode_reward += reward\n",
    "    \n",
    "        \n",
    "        time.sleep(0.5)\n",
    "        clear_output(wait=True)\n",
    "        print('Episode: ' + str(episode+1))\n",
    "        env.render()\n",
    "        print('Episode Reward: ' + str(episode_reward))\n",
    "        # print('Avg. Reward: ' + str(avg_rewards))\n",
    "    \n",
    "    time.sleep(1)\n",
    "    rewards.append(episode_reward)\n",
    "    # avg_rewards = (sum(rewards)/len(rewards))\n",
    "    \n",
    "env.close()"
   ]
  }
 ],
 "metadata": {
  "kernelspec": {
   "display_name": "Python 3",
   "language": "python",
   "name": "python3"
  },
  "language_info": {
   "codemirror_mode": {
    "name": "ipython",
    "version": 3
   },
   "file_extension": ".py",
   "mimetype": "text/x-python",
   "name": "python",
   "nbconvert_exporter": "python",
   "pygments_lexer": "ipython3",
   "version": "3.8.3"
  }
 },
 "nbformat": 4,
 "nbformat_minor": 4
}
